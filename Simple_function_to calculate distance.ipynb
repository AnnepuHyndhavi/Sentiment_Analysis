{
  "nbformat": 4,
  "nbformat_minor": 0,
  "metadata": {
    "colab": {
      "name": "distance_function",
      "provenance": [],
      "authorship_tag": "ABX9TyMMCJY4nYH++O+zxXZKXq95",
      "include_colab_link": true
    },
    "kernelspec": {
      "name": "python3",
      "display_name": "Python 3"
    },
    "language_info": {
      "name": "python"
    }
  },
  "cells": [
    {
      "cell_type": "markdown",
      "metadata": {
        "id": "view-in-github",
        "colab_type": "text"
      },
      "source": [
        "<a href=\"https://colab.research.google.com/github/AnnepuHyndhavi/AnnepuHyndhavi/blob/main/Simple_function_to%20calculate%20distance.ipynb\" target=\"_parent\"><img src=\"https://colab.research.google.com/assets/colab-badge.svg\" alt=\"Open In Colab\"/></a>"
      ]
    },
    {
      "cell_type": "markdown",
      "metadata": {
        "id": "_8I6RUb1gLQ9"
      },
      "source": [
        "#Functions"
      ]
    },
    {
      "cell_type": "code",
      "metadata": {
        "id": "Uitot-5Ec840"
      },
      "source": [
        "# km, miles\n",
        "name1= \"X\"\n",
        "d_miles1= 10\n",
        "\n",
        "name2=\"Y\"\n",
        "d_miles2= 13"
      ],
      "execution_count": 5,
      "outputs": []
    },
    {
      "cell_type": "code",
      "metadata": {
        "id": "m4GN36fhdmA8"
      },
      "source": [
        "def distance(name, d_miles):\n",
        "    distance= 1.6*d_miles\n",
        "    print(\"distance: \")\n",
        "    print(distance)\n",
        "    if distance<17:\n",
        "        return name+ \" is less in distance\"\n",
        "    else:\n",
        "        return name+ \" is more in distance\""
      ],
      "execution_count": 11,
      "outputs": []
    },
    {
      "cell_type": "code",
      "metadata": {
        "colab": {
          "base_uri": "https://localhost:8080/"
        },
        "id": "b0UuvAsPfZzo",
        "outputId": "ee4a2d93-1947-4515-aea6-da453320335f"
      },
      "source": [
        "result1= distance(name1, d_miles1)\n",
        "result2= distance(name2, d_miles2)"
      ],
      "execution_count": 12,
      "outputs": [
        {
          "output_type": "stream",
          "text": [
            "distance: \n",
            "16.0\n",
            "distance: \n",
            "20.8\n"
          ],
          "name": "stdout"
        }
      ]
    },
    {
      "cell_type": "code",
      "metadata": {
        "colab": {
          "base_uri": "https://localhost:8080/"
        },
        "id": "orLHgfyEf9Zj",
        "outputId": "2127b61b-970f-4fb5-fc42-443cf1ff2b92"
      },
      "source": [
        "print(result1)\n",
        "print(result2)"
      ],
      "execution_count": 13,
      "outputs": [
        {
          "output_type": "stream",
          "text": [
            "X is less in distance\n",
            "Y is more in distance\n"
          ],
          "name": "stdout"
        }
      ]
    }
  ]
}